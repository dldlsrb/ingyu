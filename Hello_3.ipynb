{
  "nbformat": 4,
  "nbformat_minor": 0,
  "metadata": {
    "colab": {
      "name": "Hello_3",
      "provenance": [],
      "authorship_tag": "ABX9TyP7hF90Gz5iEiDXkho0kTrj",
      "include_colab_link": true
    },
    "kernelspec": {
      "name": "python3",
      "display_name": "Python 3"
    },
    "language_info": {
      "name": "python"
    }
  },
  "cells": [
    {
      "cell_type": "markdown",
      "metadata": {
        "id": "view-in-github",
        "colab_type": "text"
      },
      "source": [
        "<a href=\"https://colab.research.google.com/github/dldlsrb/ingyu/blob/main/Hello_3.ipynb\" target=\"_parent\"><img src=\"https://colab.research.google.com/assets/colab-badge.svg\" alt=\"Open In Colab\"/></a>"
      ]
    },
    {
      "cell_type": "code",
      "execution_count": null,
      "metadata": {
        "colab": {
          "base_uri": "https://localhost:8080/"
        },
        "id": "BUeU3ubGp5ya",
        "outputId": "4d0dd63f-9d9b-4906-8ab2-2ddb8aae67f4"
      },
      "outputs": [
        {
          "output_type": "stream",
          "name": "stdout",
          "text": [
            "Hello World!\n",
            "Hello World!\n"
          ]
        }
      ],
      "source": [
        "def DoubleHello(): \n",
        "   print('Hello World!')\n",
        "   print('Hello World!')\n",
        "DoubleHello()"
      ]
    }
  ]
}